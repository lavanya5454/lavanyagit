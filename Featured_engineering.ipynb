{
  "nbformat": 4,
  "nbformat_minor": 0,
  "metadata": {
    "colab": {
      "provenance": [],
      "authorship_tag": "ABX9TyMzXXs7UXSEbJFQ4b1hyEcZ"
    },
    "kernelspec": {
      "name": "python3",
      "display_name": "Python 3"
    },
    "language_info": {
      "name": "python"
    }
  },
  "cells": [
    {
      "cell_type": "code",
      "execution_count": 34,
      "metadata": {
        "id": "Rjkr0RehxLVO",
        "colab": {
          "base_uri": "https://localhost:8080/"
        },
        "outputId": "3b239e57-8ef6-4fc9-f055-eb2c7ec92233"
      },
      "outputs": [
        {
          "output_type": "stream",
          "name": "stdout",
          "text": [
            "[1411.887    17.6054   53.108  2175.5653  127.6693    5.3927  181.3037]\n"
          ]
        }
      ],
      "source": [
        "from pandas import read_csv\n",
        "from numpy import set_printoptions\n",
        "from sklearn. feature_selection import SelectKBest\n",
        "from sklearn.feature_selection import chi2\n",
        "\n",
        "filename = '/content/pima-indians-diabetes.data.csv'\n",
        "names = ['preg', 'plas','pres', 'skin','rest','pedi','age','class']\n",
        "\n",
        "dataframe = read_csv(filename, names=names)\n",
        "array = dataframe.values\n",
        "x=array[:,0:7]\n",
        "y=array[:,7]\n",
        "test=SelectKBest(score_func=chi2,k=5)\n",
        "fit=test.fit(x,y)\n",
        "#set_printoptions(precision=4)\n",
        "print(fit.scores_)\n",
        "features=fit.transform(x)"
      ]
    },
    {
      "cell_type": "code",
      "source": [
        "x=fit.scores_\n",
        "x"
      ],
      "metadata": {
        "colab": {
          "base_uri": "https://localhost:8080/"
        },
        "id": "LVH1S5bCzTc0",
        "outputId": "4bb1c0bf-ea1e-4ea6-d54c-52d101fce5bf"
      },
      "execution_count": 32,
      "outputs": [
        {
          "output_type": "execute_result",
          "data": {
            "text/plain": [
              "array([1411.887 ,   17.6054,   53.108 , 2175.5653,  127.6693,    5.3927,\n",
              "        181.3037])"
            ]
          },
          "metadata": {},
          "execution_count": 32
        }
      ]
    },
    {
      "cell_type": "markdown",
      "source": [
        "**Recursive Feature Elimination**"
      ],
      "metadata": {
        "id": "bAX9jHb70u_j"
      }
    },
    {
      "cell_type": "code",
      "source": [
        "from pandas import read_csv\n",
        "from sklearn.feature_selection import RFE\n",
        "from sklearn.linear_model import LogisticRegression\n",
        "filename = '/content/pima-indians-diabetes.data.csv'\n",
        "names = ['preg', 'plas','pres', 'skin','rest','pedi','age','class']\n",
        "\n",
        "dataframe = read_csv(filename, names=names)\n",
        "array = dataframe.values\n",
        "x=array[:,0:7]\n",
        "y=array[:,7]\n",
        "model=LogisticRegression(max_iter=400)\n",
        "rfe=RFE(model)\n",
        "fit=rfe.fit(x,y)"
      ],
      "metadata": {
        "id": "QnpluqGeyq02"
      },
      "execution_count": 29,
      "outputs": []
    },
    {
      "cell_type": "code",
      "source": [
        "fit.support_"
      ],
      "metadata": {
        "colab": {
          "base_uri": "https://localhost:8080/"
        },
        "id": "iN12kiwdzGJb",
        "outputId": "f5328e61-fb58-4c75-8d66-1e27e7f47441"
      },
      "execution_count": 30,
      "outputs": [
        {
          "output_type": "execute_result",
          "data": {
            "text/plain": [
              "array([ True, False, False, False,  True,  True, False])"
            ]
          },
          "metadata": {},
          "execution_count": 30
        }
      ]
    },
    {
      "cell_type": "code",
      "source": [
        "fit.ranking_"
      ],
      "metadata": {
        "colab": {
          "base_uri": "https://localhost:8080/"
        },
        "id": "kSgZXKdX1rk4",
        "outputId": "2a3d9e19-1cb4-4127-8b7b-e8fd622af690"
      },
      "execution_count": 24,
      "outputs": [
        {
          "output_type": "execute_result",
          "data": {
            "text/plain": [
              "array([2, 3, 4, 5, 1, 1, 1, 1])"
            ]
          },
          "metadata": {},
          "execution_count": 24
        }
      ]
    },
    {
      "cell_type": "markdown",
      "source": [
        "**Decision Tree**"
      ],
      "metadata": {
        "id": "25rST5er23fY"
      }
    },
    {
      "cell_type": "code",
      "source": [
        "from pandas import read_csv\n",
        "from sklearn.tree import DecisionTreeClassifier\n",
        "filename = '/content/pima-indians-diabetes.data.csv'\n",
        "names = ['preg', 'plas','pres', 'skin','rest','pedi','age','class']\n",
        "dataframe = read_csv(filename, names=names)\n",
        "array = dataframe.values\n",
        "x=array[:,0:7]\n",
        "y=array[:,7]\n",
        "model=DecisionTreeClassifier()\n",
        "model.fit(x,y)\n",
        "print(model.feature_importances_)"
      ],
      "metadata": {
        "colab": {
          "base_uri": "https://localhost:8080/"
        },
        "id": "ssn5cxAJ1uqi",
        "outputId": "35295989-26b7-42ab-b09c-684f98d17939"
      },
      "execution_count": 28,
      "outputs": [
        {
          "output_type": "stream",
          "name": "stdout",
          "text": [
            "[0.3155 0.1169 0.0543 0.0282 0.2191 0.1286 0.1373]\n"
          ]
        }
      ]
    },
    {
      "cell_type": "code",
      "source": [],
      "metadata": {
        "id": "jyJWmUMn2jbS"
      },
      "execution_count": null,
      "outputs": []
    }
  ]
}